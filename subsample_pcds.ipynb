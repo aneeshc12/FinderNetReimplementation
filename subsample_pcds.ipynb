{
 "cells": [
  {
   "cell_type": "code",
   "execution_count": 1,
   "metadata": {},
   "outputs": [
    {
     "name": "stdout",
     "output_type": "stream",
     "text": [
      "Jupyter environment detected. Enabling Open3D WebVisualizer.\n",
      "[Open3D INFO] WebRTC GUI backend enabled.\n",
      "[Open3D INFO] WebRTCWindowSystem: HTTP handshake server disabled.\n"
     ]
    }
   ],
   "source": [
    "import os, sys\n",
    "import numpy as np\n",
    "import torch\n",
    "import matplotlib.pyplot as plt\n",
    "from src2.myModels import end2endModel\n",
    "import pickle\n",
    "import csv"
   ]
  },
  {
   "cell_type": "code",
   "execution_count": 2,
   "metadata": {},
   "outputs": [
    {
     "data": {
      "text/plain": [
       "['000127.bin',\n",
       " '001234.bin',\n",
       " '000253.bin',\n",
       " '000347.bin',\n",
       " '001139.bin',\n",
       " '000166.bin',\n",
       " '000068.bin',\n",
       " '001237.bin',\n",
       " '001164.bin',\n",
       " '001584.bin',\n",
       " '000041.bin',\n",
       " '000840.bin',\n",
       " '001004.bin',\n",
       " '000408.bin',\n",
       " '000157.bin',\n",
       " '001481.bin',\n",
       " '000471.bin',\n",
       " '001523.bin',\n",
       " '000318.bin',\n",
       " '001275.bin',\n",
       " '001271.bin',\n",
       " '001157.bin',\n",
       " '000952.bin',\n",
       " '000447.bin',\n",
       " '000470.bin',\n",
       " '001540.bin',\n",
       " '001116.bin',\n",
       " '000223.bin',\n",
       " '000792.bin',\n",
       " '000145.bin',\n",
       " '000168.bin',\n",
       " '001069.bin',\n",
       " '001451.bin',\n",
       " '000278.bin',\n",
       " '001227.bin',\n",
       " '000951.bin',\n",
       " '001437.bin',\n",
       " '000377.bin',\n",
       " '000601.bin',\n",
       " '001050.bin',\n",
       " '000330.bin',\n",
       " '000090.bin',\n",
       " '001581.bin',\n",
       " '000206.bin',\n",
       " '000812.bin',\n",
       " '000539.bin',\n",
       " '001161.bin',\n",
       " '000972.bin',\n",
       " '001578.bin',\n",
       " '001312.bin',\n",
       " '001387.bin',\n",
       " '001571.bin',\n",
       " '000498.bin',\n",
       " '001462.bin',\n",
       " '000582.bin',\n",
       " '001180.bin',\n",
       " '001078.bin',\n",
       " '000805.bin',\n",
       " '000333.bin',\n",
       " '000076.bin',\n",
       " '001048.bin',\n",
       " '000725.bin',\n",
       " '000763.bin',\n",
       " '001053.bin',\n",
       " '000128.bin',\n",
       " '000502.bin',\n",
       " '000107.bin',\n",
       " '000790.bin',\n",
       " '001365.bin',\n",
       " '001564.bin',\n",
       " '001380.bin',\n",
       " '001374.bin',\n",
       " '001517.bin',\n",
       " '001547.bin',\n",
       " '001551.bin',\n",
       " '000708.bin',\n",
       " '001494.bin',\n",
       " '000945.bin',\n",
       " '001345.bin',\n",
       " '001144.bin',\n",
       " '000383.bin',\n",
       " '001046.bin',\n",
       " '001418.bin',\n",
       " '000310.bin',\n",
       " '000615.bin',\n",
       " '001202.bin',\n",
       " '001080.bin',\n",
       " '000557.bin',\n",
       " '000060.bin',\n",
       " '001524.bin',\n",
       " '000820.bin',\n",
       " '000462.bin',\n",
       " '001132.bin',\n",
       " '000340.bin',\n",
       " '000618.bin',\n",
       " '000187.bin',\n",
       " '000827.bin',\n",
       " '001212.bin',\n",
       " '000848.bin',\n",
       " '001020.bin']"
      ]
     },
     "execution_count": 2,
     "metadata": {},
     "output_type": "execute_result"
    }
   ],
   "source": [
    "import random\n",
    "pcdlist = os.listdir('/scratch/aneesh.chavan/KITTI_raw/09/velodyne')\n",
    "\n",
    "to_use = random.sample(pcdlist, 100)\n",
    "to_use"
   ]
  },
  {
   "cell_type": "code",
   "execution_count": 3,
   "metadata": {},
   "outputs": [
    {
     "name": "stderr",
     "output_type": "stream",
     "text": [
      "100%|██████████| 100/100 [00:12<00:00,  7.74it/s]\n"
     ]
    }
   ],
   "source": [
    "import pyquaternion as pyq\n",
    "from scipy.spatial.transform import Rotation as R\n",
    "import cv2\n",
    "import open3d as o3d\n",
    "from tqdm import tqdm\n",
    "from src2.generateDEM import *\n",
    "\n",
    "def generate_random_pose():\n",
    "    euler_angles = [random.uniform(0.0, 360.0) for _ in range(3)]\n",
    "    mat = R.from_euler('xyz', euler_angles).as_matrix()\n",
    "\n",
    "    return euler_angles, mat\n",
    "\n",
    "def readPCD(filePath):\n",
    "    pcd = o3d.geometry.PointCloud()\n",
    "    point_list = []\n",
    "    \n",
    "    if filePath.split('.')[-1] == 'npy': \n",
    "        point_list = np.load(filePath)\n",
    "    elif filePath.split('.')[-1] == 'bin': \n",
    "    # f = open(filePath, \"rb\")\n",
    "        point_list = np.fromfile(filePath, dtype=np.float32)\n",
    "        point_list = point_list.reshape((-1, 4))\n",
    "        point_list = point_list[:, :3]\n",
    "    elif filePath.split('.')[-1] == 'ply':\n",
    "        pcd = o3d.io.read_point_cloud(filePath)\n",
    "        return pcd \n",
    "    else:\n",
    "        print(\"unrecognized format: \", filePath.split('.')[-1])\n",
    "        exit(0)\n",
    "    \n",
    "    point_list -= np.mean(point_list)\n",
    "\n",
    "    pcd.points = o3d.utility.Vector3dVector(point_list)\n",
    "    return pcd\n",
    "\n",
    "\n",
    "save_path='/home2/aneesh.chavan/FinderNetReimplementation/inference_pcds/anchor'\n",
    "dem_save_path='/home2/aneesh.chavan/FinderNetReimplementation/inference_pcds/anchor_DEMs'\n",
    "pcd_root = '/scratch/aneesh.chavan/KITTI_raw/09/velodyne'\n",
    "\n",
    "# pcd = o3d.io.read_point_cloud(\"/home2/aneesh.chavan/FinderNetReimplementation/inference_pcds/anchor/000018.ply\")\n",
    "# DEM, tx = generateDEM(direct_pcd=pcd)\n",
    "\n",
    "# print(tx, DEM.shape)\n",
    "# plt.imshow(DEM)\n",
    "\n",
    "\n",
    "\n",
    "\n",
    "for pcd_file in tqdm(to_use):\n",
    "    # print(os.path.join(pcd_root, pcd_file))\n",
    "    pcd = readPCD(os.path.join(pcd_root, pcd_file))\n",
    "    o3d.io.write_point_cloud(os.path.join(save_path, pcd_file.split('/')[-1].split('.')[0] + \".ply\"), pcd)\n",
    "\n",
    "#     DEM, tx = generateDEM(direct_pcd=pcd)\n",
    "#     cv2.imwrite(os.path.join(dem_save_path , pcd_file.split('/')[-1].split('.')[0] + \".png\"), DEM)\n",
    "\n",
    "# copy random set of pcds\n",
    "\n"
   ]
  },
  {
   "cell_type": "code",
   "execution_count": 4,
   "metadata": {},
   "outputs": [
    {
     "name": "stderr",
     "output_type": "stream",
     "text": [
      "100%|██████████| 100/100 [00:02<00:00, 48.07it/s]\n"
     ]
    }
   ],
   "source": [
    "# fetch PCDs\n",
    "for pcd_file in tqdm(to_use):\n",
    "    DEM_file = os.path.join(\"/scratch/aneesh.chavan/KITTI/09\" ,\"000\" + str(int(pcd_file.split('/')[-1].split('.')[0])) + \".png\")\n",
    "    # print(DEM_file)\n",
    "    \n",
    "    os.system(\"cp \" + DEM_file + \" \" + os.path.join('inference_pcds/anchor_DEMs', \"000\" + str(int(pcd_file.split('/')[-1].split('.')[0])) + \".png\"))\n",
    "\n"
   ]
  },
  {
   "cell_type": "code",
   "execution_count": 5,
   "metadata": {},
   "outputs": [
    {
     "name": "stderr",
     "output_type": "stream",
     "text": [
      "100%|██████████| 100/100 [00:01<00:00, 84.92it/s]\n"
     ]
    }
   ],
   "source": [
    "# randomly rotate pcds\n",
    "\n",
    "bp = './inference_pcds/anchor'\n",
    "pcds_files = os.listdir('./inference_pcds/anchor')\n",
    "\n",
    "pcds = []\n",
    "\n",
    "for i in tqdm(pcds_files):\n",
    "    pcds.append(o3d.io.read_point_cloud(os.path.join(bp, i)))"
   ]
  },
  {
   "cell_type": "code",
   "execution_count": 6,
   "metadata": {},
   "outputs": [
    {
     "data": {
      "text/plain": [
       "100"
      ]
     },
     "execution_count": 6,
     "metadata": {},
     "output_type": "execute_result"
    }
   ],
   "source": [
    "len(pcds)"
   ]
  },
  {
   "cell_type": "code",
   "execution_count": 8,
   "metadata": {},
   "outputs": [
    {
     "name": "stderr",
     "output_type": "stream",
     "text": [
      "100it [00:03, 32.09it/s]\n",
      "100%|██████████| 100/100 [01:45<00:00,  1.05s/it]\n"
     ]
    }
   ],
   "source": [
    "# randomly rotate and save pcds\n",
    "from src2.generateDEM import *\n",
    "from tqdm import tqdm\n",
    "from src_dem import DEMCreator\n",
    "\n",
    "pcd_path = './inference_pcds/query'\n",
    "dest_path = './inference_pcds/query_DEMs'\n",
    "pcd_final_path_list = []\n",
    "for path, pcd in tqdm(zip(pcds_files, pcds)):\n",
    "    angles, random_R = generate_random_pose()\n",
    "    # print(angles)\n",
    "\n",
    "    T = np.eye(4)\n",
    "    # T[:3,:3] = random_R\n",
    "\n",
    "    transformed_pcd = pcd.transform(T)\n",
    "\n",
    "    o3d.io.write_point_cloud(os.path.join(pcd_path, path), transformed_pcd)\n",
    "\n",
    "    # DEM, tx = generateDEM(direct_pcd=transformed_pcd)\n",
    "    # cv2.imwrite(os.path.join(dest_path, path.split('.')[0] + \".png\"), DEM)\n",
    "\n",
    "    # print(os.path.join(bp, path))\n",
    "\n",
    "    pcd_final_path_list.append(os.path.join(bp, path))\n",
    "\n",
    "DEMCreator.CreateDEM(pcd_final_path_list, dest_path, \"/dev/null\")\n",
    "\n",
    "    # plt.imshow(DEM)\n",
    "    # plt.show()\n",
    "\n",
    "    # ctr += 1\n",
    "    # if ctr == 5:\n",
    "    #     plt.close()\n",
    "    #     ctr = 0\n",
    "    # break\n",
    "    # generate DEMs and save PCDs"
   ]
  },
  {
   "cell_type": "code",
   "execution_count": 32,
   "metadata": {},
   "outputs": [
    {
     "data": {
      "text/plain": [
       "['001522.ply',\n",
       " '001531.ply',\n",
       " '001543.ply',\n",
       " '000477.ply',\n",
       " '000415.ply',\n",
       " '000874.ply',\n",
       " '000108.ply',\n",
       " '000082.ply',\n",
       " '001184.ply',\n",
       " '000688.ply',\n",
       " '001029.ply',\n",
       " '000916.ply',\n",
       " '000920.ply',\n",
       " '000000.ply',\n",
       " '001332.ply',\n",
       " '001202.ply',\n",
       " '000697.ply',\n",
       " '001586.ply',\n",
       " '000261.ply',\n",
       " '001136.ply',\n",
       " '001548.ply',\n",
       " '000345.ply',\n",
       " '001415.ply',\n",
       " '000284.ply',\n",
       " '001043.ply',\n",
       " '000830.ply',\n",
       " '000537.ply',\n",
       " '000708.ply',\n",
       " '000063.ply',\n",
       " '001452.ply',\n",
       " '000139.ply',\n",
       " '000719.ply',\n",
       " '001440.ply',\n",
       " '000905.ply',\n",
       " '000603.ply',\n",
       " '001057.ply',\n",
       " '000642.ply',\n",
       " '001141.ply',\n",
       " '000800.ply',\n",
       " '001194.ply',\n",
       " '001379.ply',\n",
       " '001223.ply',\n",
       " '000002.ply',\n",
       " '000260.ply',\n",
       " '001419.ply',\n",
       " '001129.ply',\n",
       " '000863.ply',\n",
       " '000167.ply',\n",
       " '000286.ply',\n",
       " '000146.ply',\n",
       " '001378.ply',\n",
       " '000364.ply',\n",
       " '000604.ply',\n",
       " '000412.ply',\n",
       " '001090.ply',\n",
       " '001282.ply',\n",
       " '001476.ply',\n",
       " '001036.ply',\n",
       " '000804.ply',\n",
       " '000354.ply',\n",
       " '000761.ply',\n",
       " '000289.ply',\n",
       " '000732.ply',\n",
       " '001371.ply',\n",
       " '000897.ply',\n",
       " '001484.ply',\n",
       " '000724.ply',\n",
       " '000280.ply',\n",
       " '000355.ply',\n",
       " '001444.ply',\n",
       " '001341.ply',\n",
       " '001013.ply',\n",
       " '000248.ply',\n",
       " '000485.ply',\n",
       " '000961.ply',\n",
       " '000090.ply',\n",
       " '000424.ply',\n",
       " '000810.ply',\n",
       " '000444.ply',\n",
       " '000893.ply',\n",
       " '001095.ply',\n",
       " '000600.ply',\n",
       " '001347.ply',\n",
       " '001300.ply',\n",
       " '000047.ply',\n",
       " '001505.ply',\n",
       " '001471.ply',\n",
       " '000709.ply',\n",
       " '000739.ply',\n",
       " '000342.ply',\n",
       " '000562.ply',\n",
       " '000959.ply',\n",
       " '000769.ply',\n",
       " '001510.ply',\n",
       " '001168.ply',\n",
       " '001242.ply',\n",
       " '001198.ply',\n",
       " '000215.ply',\n",
       " '001188.ply',\n",
       " '001565.ply']"
      ]
     },
     "execution_count": 32,
     "metadata": {},
     "output_type": "execute_result"
    }
   ],
   "source": [
    "pcds_files"
   ]
  },
  {
   "cell_type": "code",
   "execution_count": 33,
   "metadata": {},
   "outputs": [
    {
     "ename": "FileNotFoundError",
     "evalue": "[Errno 2] No such file or directory: '/home2/aneesh.chavan/FinderNetReimplementation/inference_pcds/anchor_DEMs/000297.png'",
     "output_type": "error",
     "traceback": [
      "\u001b[0;31m---------------------------------------------------------------------------\u001b[0m",
      "\u001b[0;31mFileNotFoundError\u001b[0m                         Traceback (most recent call last)",
      "Cell \u001b[0;32mIn[33], line 7\u001b[0m\n\u001b[1;32m      4\u001b[0m fig, axes \u001b[38;5;241m=\u001b[39m plt\u001b[38;5;241m.\u001b[39msubplots(\u001b[38;5;241m1\u001b[39m,\u001b[38;5;241m2\u001b[39m)\n\u001b[1;32m      6\u001b[0m pcd_of_choice \u001b[38;5;241m=\u001b[39m \u001b[38;5;241m297\u001b[39m\n\u001b[0;32m----> 7\u001b[0m sud_pcd \u001b[38;5;241m=\u001b[39m \u001b[43mImage\u001b[49m\u001b[38;5;241;43m.\u001b[39;49m\u001b[43mopen\u001b[49m\u001b[43m(\u001b[49m\u001b[38;5;124;43m\"\u001b[39;49m\u001b[38;5;124;43m/home2/aneesh.chavan/FinderNetReimplementation/inference_pcds/anchor_DEMs/000\u001b[39;49m\u001b[38;5;124;43m\"\u001b[39;49m\u001b[43m \u001b[49m\u001b[38;5;241;43m+\u001b[39;49m\u001b[43m \u001b[49m\u001b[38;5;28;43mstr\u001b[39;49m\u001b[43m(\u001b[49m\u001b[43mpcd_of_choice\u001b[49m\u001b[43m)\u001b[49m\u001b[43m \u001b[49m\u001b[38;5;241;43m+\u001b[39;49m\u001b[43m \u001b[49m\u001b[38;5;124;43m\"\u001b[39;49m\u001b[38;5;124;43m.png\u001b[39;49m\u001b[38;5;124;43m\"\u001b[39;49m\u001b[43m)\u001b[49m\n\u001b[1;32m      9\u001b[0m axes[\u001b[38;5;241m0\u001b[39m]\u001b[38;5;241m.\u001b[39mimshow(sud_pcd)\n\u001b[1;32m     11\u001b[0m \u001b[38;5;66;03m# my DEM\u001b[39;00m\n",
      "File \u001b[0;32m~/miniconda3/envs/reid/lib/python3.10/site-packages/PIL/Image.py:3277\u001b[0m, in \u001b[0;36mopen\u001b[0;34m(fp, mode, formats)\u001b[0m\n\u001b[1;32m   3274\u001b[0m     filename \u001b[38;5;241m=\u001b[39m os\u001b[38;5;241m.\u001b[39mpath\u001b[38;5;241m.\u001b[39mrealpath(os\u001b[38;5;241m.\u001b[39mfspath(fp))\n\u001b[1;32m   3276\u001b[0m \u001b[38;5;28;01mif\u001b[39;00m filename:\n\u001b[0;32m-> 3277\u001b[0m     fp \u001b[38;5;241m=\u001b[39m \u001b[43mbuiltins\u001b[49m\u001b[38;5;241;43m.\u001b[39;49m\u001b[43mopen\u001b[49m\u001b[43m(\u001b[49m\u001b[43mfilename\u001b[49m\u001b[43m,\u001b[49m\u001b[43m \u001b[49m\u001b[38;5;124;43m\"\u001b[39;49m\u001b[38;5;124;43mrb\u001b[39;49m\u001b[38;5;124;43m\"\u001b[39;49m\u001b[43m)\u001b[49m\n\u001b[1;32m   3278\u001b[0m     exclusive_fp \u001b[38;5;241m=\u001b[39m \u001b[38;5;28;01mTrue\u001b[39;00m\n\u001b[1;32m   3280\u001b[0m \u001b[38;5;28;01mtry\u001b[39;00m:\n",
      "\u001b[0;31mFileNotFoundError\u001b[0m: [Errno 2] No such file or directory: '/home2/aneesh.chavan/FinderNetReimplementation/inference_pcds/anchor_DEMs/000297.png'"
     ]
    },
    {
     "data": {
      "image/png": "[encoded data removed]",
      "text/plain": [
       "<Figure size 640x480 with 2 Axes>"
      ]
     },
     "metadata": {},
     "output_type": "display_data"
    }
   ],
   "source": [
    "import matplotlib.pyplot as pcdlist\n",
    "from PIL import Image\n",
    "\n",
    "fig, axes = plt.subplots(1,2)\n",
    "\n",
    "pcd_of_choice = 297\n",
    "sud_pcd = Image.open(\"/home2/aneesh.chavan/FinderNetReimplementation/inference_pcds/anchor_DEMs/000\" + str(pcd_of_choice) + \".png\")\n",
    "\n",
    "axes[0].imshow(sud_pcd)\n",
    "\n",
    "# my DEM\n",
    "pcd = o3d.io.read_point_cloud(os.path.join(bp, f\"%.6d\" % pcd_of_choice + \".ply\"))\n",
    "DEM, tx = generateDEM(direct_pcd=pcd)\n",
    "\n",
    "axes[1].imshow(DEM)\n",
    "\n",
    "fig.show()\n"
   ]
  }
 ],
 "metadata": {
  "kernelspec": {
   "display_name": "reid",
   "language": "python",
   "name": "python3"
  },
  "language_info": {
   "codemirror_mode": {
    "name": "ipython",
    "version": 3
   },
   "file_extension": ".py",
   "mimetype": "text/x-python",
   "name": "python",
   "nbconvert_exporter": "python",
   "pygments_lexer": "ipython3",
   "version": "3.10.14"
  }
 },
 "nbformat": 4,
 "nbformat_minor": 2
}
