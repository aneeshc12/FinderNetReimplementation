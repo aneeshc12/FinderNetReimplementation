{
 "cells": [
  {
   "cell_type": "code",
   "execution_count": 27,
   "metadata": {},
   "outputs": [],
   "source": [
    "import os, sys\n",
    "import numpy as np\n",
    "import torch\n",
    "import matplotlib.pyplot as plt\n",
    "from src2.myModels import end2endModel\n",
    "import pickle\n",
    "import csv"
   ]
  },
  {
   "cell_type": "code",
   "execution_count": 59,
   "metadata": {},
   "outputs": [
    {
     "name": "stderr",
     "output_type": "stream",
     "text": [
      "ic| Pmatrix1: array([[ 4.35031489e-01,  9.00398867e-01, -5.42982955e-03,\n",
      "                      -9.14412623e-01],\n",
      "                     [-9.00415239e-01,  4.35023579e-01, -2.62339722e-03,\n",
      "                       4.04783343e-01],\n",
      "                     [ 4.33680869e-19,  6.03036168e-03,  9.99981817e-01,\n",
      "                       0.00000000e+00],\n",
      "                     [ 0.00000000e+00,  0.00000000e+00,  0.00000000e+00,\n",
      "                       1.00000000e+00]])\n",
      "ic| yaw_matrix: array([[ 9.99999670e-01,  8.12392739e-04,  0.00000000e+00,\n",
      "                        -2.97737644e-02],\n",
      "                       [-8.12392739e-04,  9.99999670e-01,  0.00000000e+00,\n",
      "                         9.45157426e-01],\n",
      "                       [ 0.00000000e+00,  0.00000000e+00,  1.00000000e+00,\n",
      "                         0.00000000e+00],\n",
      "                       [ 0.00000000e+00,  0.00000000e+00,  0.00000000e+00,\n",
      "                         1.00000000e+00]])\n",
      "ic| Pmatrix2: array([[ 0.39688081, -0.91787016, -0.        ,  0.73445137],\n",
      "                     [ 0.91786691,  0.39687941,  0.00266031,  0.67865891],\n",
      "                     [-0.00244182, -0.00105583,  0.99999646, -0.00180545],\n",
      "                     [ 0.        ,  0.        ,  0.        ,  1.        ]])\n",
      "ic| final_transform: array([[ 9.99153672e-01, -4.11324506e-02,  2.48048064e-04,\n",
      "                             -8.79899526e-01],\n",
      "                            [ 4.11330529e-02,  9.99148012e-01, -3.36497487e-03,\n",
      "                              3.48382050e-01],\n",
      "                            [-1.09427067e-04,  3.37232997e-03,  9.99994308e-01,\n",
      "                             -9.26807600e-04],\n",
      "                            [ 0.00000000e+00,  0.00000000e+00,  0.00000000e+00,\n",
      "                              1.00000000e+00]])\n"
     ]
    },
    {
     "name": "stdout",
     "output_type": "stream",
     "text": [
      "(0.9463583293353691, 0.04128257465619337, array([1.68468509e-03, 8.93878246e-05, 2.05707579e-02, 9.99786976e-01]), (array([[ 4.35031489e-01,  9.00398867e-01, -5.42982955e-03,\n",
      "        -9.14412623e-01],\n",
      "       [-9.00415239e-01,  4.35023579e-01, -2.62339722e-03,\n",
      "         4.04783343e-01],\n",
      "       [ 4.33680869e-19,  6.03036168e-03,  9.99981817e-01,\n",
      "         0.00000000e+00],\n",
      "       [ 0.00000000e+00,  0.00000000e+00,  0.00000000e+00,\n",
      "         1.00000000e+00]]), array([[ 9.99999670e-01,  8.12392739e-04,  0.00000000e+00,\n",
      "        -2.97737644e-02],\n",
      "       [-8.12392739e-04,  9.99999670e-01,  0.00000000e+00,\n",
      "         9.45157426e-01],\n",
      "       [ 0.00000000e+00,  0.00000000e+00,  1.00000000e+00,\n",
      "         0.00000000e+00],\n",
      "       [ 0.00000000e+00,  0.00000000e+00,  0.00000000e+00,\n",
      "         1.00000000e+00]]), array([[ 0.39688081, -0.91787016, -0.        ,  0.73445137],\n",
      "       [ 0.91786691,  0.39687941,  0.00266031,  0.67865891],\n",
      "       [-0.00244182, -0.00105583,  0.99999646, -0.00180545],\n",
      "       [ 0.        ,  0.        ,  0.        ,  1.        ]]))) (0.9745814710859236, 0.004499036450207969, array([8.58575488e-04, 6.35818338e-02, 8.12359692e-05, 9.35475825e-01]))\n"
     ]
    }
   ],
   "source": [
    "# load poses\n",
    "import pyquaternion as pyq\n",
    "from scipy.spatial.transform import Rotation as R\n",
    "import cv2\n",
    "from src2.Estimate2DOF import * \n",
    "from icecream import ic\n",
    "\n",
    "import importlib\n",
    "\n",
    "pose_path = '/scratch/aneesh.chavan/KITTI_poses/09.txt'\n",
    "canon_pose_path = '/scratch/aneesh.chavan/myKITTI_DEMS/09/final_transforms.txt'\n",
    "dem_path = '/scratch/aneesh.chavan/KITTI/09'\n",
    "\n",
    "class poseCompare():\n",
    "    def __init__(self, canon_pose_path=canon_pose_path, pose_path=pose_path, DEM_path=dem_path):\n",
    "        self.pose_path = pose_path\n",
    "        self.canon_pose_path = canon_pose_path\n",
    "        \n",
    "        # QUATERNIONS ARE SCALAR LAST [x, y, z, w]\n",
    "\n",
    "        # stored as id and quaternion\n",
    "        self.canon_pose_dict = {}\n",
    "        with open(self.canon_pose_path) as f:\n",
    "            reader = csv.reader(f, delimiter=',')\n",
    "            ctr = 0\n",
    "            for row in reader:\n",
    "                if int(row[0]) > len(self.canon_pose_dict):\n",
    "                    for key in range(len(self.canon_pose_dict), int(row[0])):\n",
    "                        self.canon_pose_dict[key] = np.array([0., 0., 0., 0., 0., 0., 1.])\n",
    "                self.canon_pose_dict[int(row[0])] = np.array([float(i) for i in row[1:]])\n",
    "                ctr += 1\n",
    "\n",
    "            #     print(len(self.canon_pose_dict), row[0])\n",
    "\n",
    "            # print(ctr)\n",
    "        # stored as P matrices without a quaternion\n",
    "        self.pose_dict = {}\n",
    "        with open(self.pose_path) as f:\n",
    "            reader = csv.reader(f, delimiter=' ')\n",
    "            for i, row in enumerate(reader):\n",
    "                t, q = self.P_matrix_to_tq(np.array([float(x) for x in row]))\n",
    "                self.pose_dict[i] = np.concatenate([t, q])\n",
    "\n",
    "        self.DEM_path = DEM_path\n",
    "\n",
    "    # go from pose 1 to pose 2\n",
    "    # return angle in rads\n",
    "    \"\"\"\n",
    "    Find tx diff and angle diff between two canonicalized pcds and the yaw between them\n",
    "    needs the rotation of the canonical plane of both pcds (thus the transforms, and intermediate yaws)\n",
    "\n",
    "    the transform to get from 1 -> 2\n",
    "        1. apply canonczn tr 1\n",
    "        2. apply yaw and intermediate translation\n",
    "        3. apply inv canonczn tr 2\n",
    "        \n",
    "    goes from pose 1 to 2\n",
    "    \"\"\"\n",
    "    def get_pred_pose_diff(self, idx1, idx2, viz=False):\n",
    "        p1 = self.canon_pose_dict[int(idx1)]\n",
    "        p2 = self.canon_pose_dict[int(idx2)]\n",
    "\n",
    "        # steps 1 and 3\n",
    "        Pmatrix1 = self.tq_to_P_matrix(p1)\n",
    "        Pmatrix2 = self.invert_P_matrix(self.tq_to_P_matrix(p2))\n",
    "\n",
    "        # ic(p1, p2)\n",
    "\n",
    "        # step 2, feature matching\n",
    "        dem1 = cv2.imread(os.path.join(self.DEM_path, (\"000\" + str(int(idx1)) + \".png\")), cv2.IMREAD_GRAYSCALE)\n",
    "        dem2 = cv2.imread(os.path.join(self.DEM_path, (\"000\" + str(int(idx2)) + \".png\")), cv2.IMREAD_GRAYSCALE)\n",
    "\n",
    "        # flipped because this function goes from arg 2 to arg 1s\n",
    "        r, t = DetermineYaw(dem2, dem1, None, None, None, None, viz=viz)\n",
    "\n",
    "        yaw_matrix = np.eye(4)\n",
    "        yaw_matrix[:3, :3] = r\n",
    "        yaw_matrix[:2, -1] = t[:2]\n",
    "\n",
    "        # yaw_matrix[2,  -1] = distance_r - distance_p # TODO\n",
    "        yaw_matrix[2,  -1] = 0\n",
    "\n",
    "        # combine all transforms\n",
    "        final_transform = Pmatrix2 @ yaw_matrix @ Pmatrix1\n",
    "        # final_transform = yaw_matrix\n",
    "\n",
    "        ic(Pmatrix1)\n",
    "        ic( yaw_matrix)\n",
    "        ic( Pmatrix2)\n",
    "        ic(final_transform)\n",
    "\n",
    "        # get tx and q diff\n",
    "        tx_diff = np.linalg.norm(final_transform[:3, -1])\n",
    "\n",
    "        q1 = R.from_matrix(final_transform[:3,:3]).as_quat()\n",
    "        q2 = np.array([0., 0., 0., 1.])\n",
    "\n",
    "        angle = np.clip(np.dot(q1, q2), -1.0, 1.0)\n",
    "        angle = 2*np.arccos(angle)\n",
    "\n",
    "        return tx_diff, angle, q1, (Pmatrix1, yaw_matrix, Pmatrix2)\n",
    "\n",
    "    # go from pose 1 to pose 2\n",
    "    # return angle in rads\n",
    "    def gt_pose_diff(self, idx1, idx2):\n",
    "        cn_p1 = self.pose_dict[int(idx1)]\n",
    "        cn_p2 = self.pose_dict[int(idx2)]\n",
    "\n",
    "        tx_diff = np.linalg.norm(cn_p2[:3] - cn_p1[:3])\n",
    "\n",
    "        q1 = cn_p1[3:] / np.linalg.norm(cn_p1[3:])\n",
    "        q2 = cn_p2[3:] / np.linalg.norm(cn_p2[3:])\n",
    "\n",
    "        angle = np.clip(np.dot(q1, q2), -1.0, 1.0)\n",
    "        angle = 2*np.arccos(angle)\n",
    "\n",
    "        return tx_diff, angle, np.multiply(q2, q1)\n",
    "    \n",
    "    def P_matrix_to_tq(self, matrix):\n",
    "        if len(matrix) == 12:\n",
    "            matrix = matrix.reshape(3,4)\n",
    "        t = matrix[:, -1]\n",
    "        rot_matrix = matrix[:3, :3]\n",
    "\n",
    "        q = R.from_matrix(rot_matrix).as_quat()\n",
    "\n",
    "        return t, q\n",
    "\n",
    "    def tq_to_P_matrix(self, tq):\n",
    "        t = tq[:3]\n",
    "        q = tq[3:]\n",
    "\n",
    "        P = np.eye(4)\n",
    "        P[:3, -1] = t\n",
    "        P[:3, :3] = R.from_quat(q).as_matrix()\n",
    "\n",
    "        return P\n",
    "\n",
    "    \"\"\"\n",
    "    requires a 4x4 matrix\n",
    "    \"\"\"\n",
    "    def invert_P_matrix(self, P):\n",
    "        assert(len(P) == 4)\n",
    "        assert(len(P[0]) == 4)\n",
    "\n",
    "        invP = np.eye(4)\n",
    "\n",
    "        invR = np.linalg.inv(P[:3, :3])\n",
    "        try:\n",
    "            invP[:3, :3] = invR\n",
    "        except:\n",
    "            print(\"Non invertible R matrix (somehow?): \", P[:3, :3])\n",
    "\n",
    "        invP[:3, -1] = -invR @ P[:3, -1]\n",
    "\n",
    "        return invP\n",
    "\n",
    "\n",
    "p = poseCompare(pose_path=pose_path, canon_pose_path=canon_pose_path)\n",
    "\n",
    "idx1 = 60\n",
    "idx2 = 61\n",
    "\n",
    "pred = p.get_pred_pose_diff(idx1,idx2, viz=False)\n",
    "gt = p.gt_pose_diff(idx1, idx2)\n",
    "\n",
    "print(pred, gt);"
   ]
  },
  {
   "cell_type": "code",
   "execution_count": 60,
   "metadata": {},
   "outputs": [
    {
     "data": {
      "text/plain": [
       "True"
      ]
     },
     "execution_count": 60,
     "metadata": {},
     "output_type": "execute_result"
    }
   ],
   "source": [
    "# save two sample pcds\n",
    "import open3d as o3d\n",
    "\n",
    "root_path = '/scratch/aneesh.chavan/KITTI_raw/09/velodyne'\n",
    "pcd_save_path = '/home2/aneesh.chavan/FinderNetReimplementation/sample_pcds'\n",
    "\n",
    "\n",
    "def read_velodyne_bin(file_path):\n",
    "    # Load the binary data\n",
    "    data = np.fromfile(file_path, dtype=np.float32)\n",
    "    \n",
    "    # Reshape the data to be a Nx4 array (x, y, z, intensity)\n",
    "    points = data.reshape(-1, 4)\n",
    "    \n",
    "    # Create an Open3D PointCloud object\n",
    "    pcd = o3d.geometry.PointCloud()\n",
    "    \n",
    "    # Set the points\n",
    "    pcd.points = o3d.utility.Vector3dVector(points[:, :3])\n",
    "    \n",
    "    return pcd\n",
    "\n",
    "\n",
    "pcd1 = read_velodyne_bin(os.path.join(root_path, f\"%.6d.bin\" % idx1)).uniform_down_sample(5)\n",
    "pcd2 = read_velodyne_bin(os.path.join(root_path, f\"%.6d.bin\" % idx2)).uniform_down_sample(5)\n",
    "\n",
    "pcd1.paint_uniform_color([1.,0.,0.])\n",
    "pcd2.paint_uniform_color([0.,0.,1.])\n",
    "\n",
    "o3d.io.write_point_cloud(os.path.join(pcd_save_path, \"anchor.ply\"), pcd1)\n",
    "o3d.io.write_point_cloud(os.path.join(pcd_save_path, \"query.ply\"), pcd2)\n",
    "o3d.io.write_point_cloud(os.path.join(pcd_save_path, \"both.ply\"), pcd1+pcd2)"
   ]
  },
  {
   "cell_type": "code",
   "execution_count": 61,
   "metadata": {},
   "outputs": [
    {
     "name": "stderr",
     "output_type": "stream",
     "text": [
      "ic| Pmatrix1: array([[ 4.35031489e-01,  9.00398867e-01, -5.42982955e-03,\n",
      "                      -9.14412623e-01],\n",
      "                     [-9.00415239e-01,  4.35023579e-01, -2.62339722e-03,\n",
      "                       4.04783343e-01],\n",
      "                     [ 4.33680869e-19,  6.03036168e-03,  9.99981817e-01,\n",
      "                       0.00000000e+00],\n",
      "                     [ 0.00000000e+00,  0.00000000e+00,  0.00000000e+00,\n",
      "                       1.00000000e+00]])\n",
      "ic| yaw_matrix: array([[ 9.99999670e-01,  8.12392739e-04,  0.00000000e+00,\n",
      "                        -2.97737644e-02],\n",
      "                       [-8.12392739e-04,  9.99999670e-01,  0.00000000e+00,\n",
      "                         9.45157426e-01],\n",
      "                       [ 0.00000000e+00,  0.00000000e+00,  1.00000000e+00,\n",
      "                         0.00000000e+00],\n",
      "                       [ 0.00000000e+00,  0.00000000e+00,  0.00000000e+00,\n",
      "                         1.00000000e+00]])\n",
      "ic| Pmatrix2: array([[ 0.39688081, -0.91787016, -0.        ,  0.73445137],\n",
      "                     [ 0.91786691,  0.39687941,  0.00266031,  0.67865891],\n",
      "                     [-0.00244182, -0.00105583,  0.99999646, -0.00180545],\n",
      "                     [ 0.        ,  0.        ,  0.        ,  1.        ]])\n",
      "ic| final_transform: array([[ 9.99153672e-01, -4.11324506e-02,  2.48048064e-04,\n",
      "                             -8.79899526e-01],\n",
      "                            [ 4.11330529e-02,  9.99148012e-01, -3.36497487e-03,\n",
      "                              3.48382050e-01],\n",
      "                            [-1.09427067e-04,  3.37232997e-03,  9.99994308e-01,\n",
      "                             -9.26807600e-04],\n",
      "                            [ 0.00000000e+00,  0.00000000e+00,  0.00000000e+00,\n",
      "                              1.00000000e+00]])\n"
     ]
    },
    {
     "name": "stdout",
     "output_type": "stream",
     "text": [
      "GT:  (0.9745814710859236, 0.004499036450207969, array([8.58575488e-04, 6.35818338e-02, 8.12359692e-05, 9.35475825e-01]))\n",
      "\n",
      "Pred:  (0.9463583293353691, 0.04128257465619337, array([1.68468509e-03, 8.93878246e-05, 2.05707579e-02, 9.99786976e-01]))\n",
      "\n",
      "\n"
     ]
    },
    {
     "data": {
      "text/plain": [
       "array([ 0.00255341, -0.00160359, -0.53183409,  0.8468432 ])"
      ]
     },
     "execution_count": 61,
     "metadata": {},
     "output_type": "execute_result"
    }
   ],
   "source": [
    "pred = p.get_pred_pose_diff(idx1,idx2, viz=False)\n",
    "gt = p.gt_pose_diff(idx1, idx2)\n",
    "\n",
    "pm1 = pred[-1][0]\n",
    "yawm = pred[-1][1]\n",
    "pm2 = pred[-1][2]\n",
    "\n",
    "pred = pred[:-1]\n",
    "\n",
    "print(\"GT: \", gt)\n",
    "print()\n",
    "print(\"Pred: \", pred)\n",
    "\n",
    "print()\n",
    "print()\n",
    "ll = R.from_matrix((yawm@pm1)[:3,:3]).as_quat()\n",
    "ll /= np.linalg.norm(ll)\n",
    "ll"
   ]
  },
  {
   "cell_type": "code",
   "execution_count": 62,
   "metadata": {},
   "outputs": [
    {
     "data": {
      "text/plain": [
       "True"
      ]
     },
     "execution_count": 62,
     "metadata": {},
     "output_type": "execute_result"
    }
   ],
   "source": [
    "transformed_idx1 = read_velodyne_bin(os.path.join(root_path, f\"%.6d.bin\" % idx1)).uniform_down_sample(5)\n",
    "\n",
    "# pm1 = np.array([[ 2.84735335e-01,  9.58599786e-01, -3.49847460e-03,-9.14412623e-01],\n",
    "#                 [-9.58606170e-01,  2.84733439e-01, -1.03915390e-03,4.04783343e-01],\n",
    "#                 [-4.33680869e-19,  3.64954317e-03,  9.99993340e-01,0.00000000e+00],\n",
    "#                 [ 0.00000000e+00,  0.00000000e+00,  0.00000000e+00,1.00000000e+00]])\n",
    "\n",
    "# yawm = np.array([[ 2.84735335e-01,  9.58599786e-01, -3.49847460e-03,-9.14412623e-01],\n",
    "#                  [-9.58606170e-01,  2.84733439e-01, -1.03915390e-03, 4.04783343e-01],\n",
    "#                  [-4.33680869e-19,  3.64954317e-03,  9.99993340e-01,0.00000000e+00],\n",
    "#                  [ 0.00000000e+00,  0.00000000e+00,  0.00000000e+00,1.00000000e+00]])\n",
    "\n",
    "# pm2 = np.array([[ 0.43503149, -0.90041524, -0.        ,  0.76227138],\n",
    "#                 [ 0.90039887,  0.43502358,  0.00603036,  0.64724579],\n",
    "#                 [-0.00542983, -0.0026234 ,  0.99998182, -0.0039032 ],\n",
    "#                 [ 0.        ,  0.        ,  0.        ,  1.        ]])\n",
    "\n",
    "t1 = transformed_idx1.transform(pm1)\n",
    "t2 = t1.transform(yawm)\n",
    "t3 = t2.transform(pm2)\n",
    "\n",
    "transformed_idx1 = read_velodyne_bin(os.path.join(root_path, f\"%.6d.bin\" % idx1)).uniform_down_sample(5)\n",
    "\n",
    "t4 = transformed_idx1.transform(yawm)\n",
    "\n",
    "transformed_idx1 = read_velodyne_bin(os.path.join(root_path, f\"%.6d.bin\" % idx1)).uniform_down_sample(5)\n",
    "\n",
    "t5 = transformed_idx1.transform(pm1).transform(yawm).transform(pm2)\n",
    "\n",
    "\n",
    "o3d.io.write_point_cloud(os.path.join(pcd_save_path, \"t1.ply\"), t1.paint_uniform_color([0.8,0.2,0.]))\n",
    "o3d.io.write_point_cloud(os.path.join(pcd_save_path, \"t2.ply\"), t2.paint_uniform_color([0.7,0.3,0.]))\n",
    "o3d.io.write_point_cloud(os.path.join(pcd_save_path, \"t3.ply\"), t3.paint_uniform_color([0.6,0.4,0.]))\n",
    "o3d.io.write_point_cloud(os.path.join(pcd_save_path, \"t4.ply\"), t4.paint_uniform_color([0.8,0.6,0.]))\n",
    "o3d.io.write_point_cloud(os.path.join(pcd_save_path, \"t5.ply\"), t5.paint_uniform_color([0.8,0.6,0.]))\n"
   ]
  },
  {
   "cell_type": "code",
   "execution_count": 63,
   "metadata": {},
   "outputs": [],
   "source": [
    "r1 = R.from_matrix(\n",
    "\n",
    "np.array([[ 2.84735335e-01,  9.58599786e-01, -3.49847460e-03,],\n",
    "          [-9.58606170e-01,  2.84733439e-01, -1.03915390e-03,],\n",
    "          [-4.33680869e-19,  3.64954317e-03,  9.99993340e-01,]])\n",
    "\n",
    ").as_euler('xyz')"
   ]
  },
  {
   "cell_type": "code",
   "execution_count": 64,
   "metadata": {},
   "outputs": [
    {
     "data": {
      "text/plain": [
       "array([-0.00262344,  0.00542986,  1.12071596])"
      ]
     },
     "execution_count": 64,
     "metadata": {},
     "output_type": "execute_result"
    }
   ],
   "source": [
    "r2 = R.from_matrix(\n",
    "    \n",
    "np.array([[ 0.43503149, -0.90041524, -0.        ],\n",
    "          [ 0.90039887,  0.43502358,  0.00603036],\n",
    "          [-0.00542983, -0.0026234 ,  0.99998182]])\n",
    "\n",
    ").as_euler('xyz')\n",
    "\n",
    "r2"
   ]
  },
  {
   "cell_type": "code",
   "execution_count": 65,
   "metadata": {},
   "outputs": [
    {
     "name": "stdout",
     "output_type": "stream",
     "text": [
      "[[ 9.87012442e-01  1.60642765e-01 -5.86276610e-04]\n",
      " [-1.60640914e-01  9.87009932e-01  2.42824081e-03]\n",
      " [ 9.68742962e-04 -2.30252676e-03  9.99996882e-01]]\n"
     ]
    },
    {
     "data": {
      "text/plain": [
       "array([-0.00230253, -0.00096874, -0.16134004])"
      ]
     },
     "execution_count": 65,
     "metadata": {},
     "output_type": "execute_result"
    }
   ],
   "source": [
    "res = \\\n",
    "np.array([[ 0.43503149, -0.90041524, -0.        ],\n",
    "          [ 0.90039887,  0.43502358,  0.00603036],\n",
    "          [-0.00542983, -0.0026234 ,  0.99998182]])  \\\n",
    "@ \\\n",
    "np.array([[ 2.84735335e-01,  9.58599786e-01, -3.49847460e-03,],\n",
    "          [-9.58606170e-01,  2.84733439e-01, -1.03915390e-03,],\n",
    "          [-4.33680869e-19,  3.64954317e-03,  9.99993340e-01,]])\n",
    "\n",
    "print(res)\n",
    "res = R.from_matrix(res).as_euler('xyz')\n",
    "res"
   ]
  },
  {
   "cell_type": "code",
   "execution_count": 66,
   "metadata": {},
   "outputs": [
    {
     "data": {
      "text/plain": [
       "True"
      ]
     },
     "execution_count": 66,
     "metadata": {},
     "output_type": "execute_result"
    }
   ],
   "source": [
    "comp = pcd1 + t1 +t2 + t3\n",
    "o3d.io.write_point_cloud(os.path.join(pcd_save_path, \"comp.ply\"), comp)\n"
   ]
  },
  {
   "cell_type": "code",
   "execution_count": 67,
   "metadata": {},
   "outputs": [],
   "source": [
    "def quat_angle_diff(q1, q2):\n",
    "    q2prime = np.zeros_like(q2)\n",
    "    q2prime[-1] = q2[-1]\n",
    "    q2prime[:-1] = q2[:-1]\n",
    "\n",
    "    angle = np.clip(np.dot(q1, q2prime)/(np.linalg.norm(q1) * np.linalg.norm(q2)), -1.0, 1.0)\n",
    "\n",
    "    print(\"q1: \", q1)\n",
    "    print(\"q2: \", q2)\n",
    "    print(\"angle and arccos: \", angle, np.arccos(angle))\n",
    "\n",
    "    angle = 2*np.arccos(angle)\n",
    "    return angle"
   ]
  },
  {
   "cell_type": "code",
   "execution_count": 68,
   "metadata": {},
   "outputs": [
    {
     "name": "stdout",
     "output_type": "stream",
     "text": [
      "q1:  [8.58575488e-04 6.35818338e-02 8.12359692e-05 9.35475825e-01]\n",
      "q2:  [1.68468509e-03 8.93878246e-05 2.05707579e-02 9.99786976e-01]\n",
      "angle and arccos:  0.9974946210454558 0.07080149444743467\n"
     ]
    },
    {
     "data": {
      "text/plain": [
       "0.14160298889486933"
      ]
     },
     "execution_count": 68,
     "metadata": {},
     "output_type": "execute_result"
    }
   ],
   "source": [
    "quat_angle_diff(gt[-1], pred[-1])"
   ]
  },
  {
   "cell_type": "code",
   "execution_count": 69,
   "metadata": {},
   "outputs": [
    {
     "name": "stdout",
     "output_type": "stream",
     "text": [
      "[8.58575488e-04 6.35818338e-02 8.12359692e-05 9.35475825e-01] \n",
      " [1.68468509e-03 8.93878246e-05 2.05707579e-02 9.99786976e-01]\n",
      "q1:  [8.58575488e-04 6.35818338e-02 8.12359692e-05 9.35475825e-01]\n",
      "q2:  [1.68468509e-03 8.93878246e-05 2.05707579e-02 9.99786976e-01]\n",
      "angle and arccos:  0.9974946210454558 0.07080149444743467\n",
      "0.14160298889486933\n"
     ]
    }
   ],
   "source": [
    "print(gt[-1],'\\n', pred[-1])\n",
    "\n",
    "angle_diff = quat_angle_diff(gt[-1], pred[-1])\n",
    "print(angle_diff)"
   ]
  },
  {
   "cell_type": "code",
   "execution_count": 70,
   "metadata": {},
   "outputs": [
    {
     "data": {
      "text/plain": [
       "0.9279968449248098"
      ]
     },
     "execution_count": 70,
     "metadata": {},
     "output_type": "execute_result"
    }
   ],
   "source": [
    "np.cos(0.38179632231164684)"
   ]
  }
 ],
 "metadata": {
  "kernelspec": {
   "display_name": "reid",
   "language": "python",
   "name": "python3"
  },
  "language_info": {
   "codemirror_mode": {
    "name": "ipython",
    "version": 3
   },
   "file_extension": ".py",
   "mimetype": "text/x-python",
   "name": "python",
   "nbconvert_exporter": "python",
   "pygments_lexer": "ipython3",
   "version": "3.10.14"
  }
 },
 "nbformat": 4,
 "nbformat_minor": 2
}
